{
 "cells": [
  {
   "cell_type": "code",
   "execution_count": 1,
   "metadata": {
    "collapsed": true
   },
   "outputs": [],
   "source": [
    "import urllib2\n",
    "import re\n",
    "import sys\n",
    "import bs4\n",
    "import logging\n",
    "import os"
   ]
  },
  {
   "cell_type": "code",
   "execution_count": 2,
   "metadata": {
    "collapsed": false
   },
   "outputs": [],
   "source": [
    "main_url = \"http://www.azlyrics.com/m/mfdoom.html\" # just a link i found with a bunch of mf doom lyrics\n",
    "lyrics_base = \"http://www.azlyrics.com/lyrics/mfdoom/\"\n",
    "pattern = 'lyrics/mfdoom/(.*)\\.html'\n",
    "output_dir = \"../lyrics/\"\n",
    "\n",
    "attempts = 4\n",
    "\n",
    "logging.basicConfig(format='%(asctime)s %(message)s', stream=sys.stdout, level=\"INFO\")"
   ]
  },
  {
   "cell_type": "code",
   "execution_count": 3,
   "metadata": {
    "collapsed": false
   },
   "outputs": [],
   "source": [
    "def fetch_with_retries(url, attempt):\n",
    "    try:\n",
    "        return urllib2.urlopen(url).read()\n",
    "    except Exception as e:\n",
    "        if attempt < attempts:\n",
    "            return fetch_with_retries(url, attempt+1)\n",
    "        else:\n",
    "            logging.error(\"unable to fetch %s, error: %s\" % (url, e))\n",
    "            sys.exit(1)"
   ]
  },
  {
   "cell_type": "code",
   "execution_count": 4,
   "metadata": {
    "collapsed": false
   },
   "outputs": [
    {
     "name": "stdout",
     "output_type": "stream",
     "text": [
      "2017-06-19 11:27:07,855 unable to fetch http://www.azlyrics.com/m/mfdoom.html, error: ''\n"
     ]
    },
    {
     "ename": "SystemExit",
     "evalue": "1",
     "output_type": "error",
     "traceback": [
      "An exception has occurred, use %tb to see the full traceback.\n",
      "\u001b[0;31mSystemExit\u001b[0m\u001b[0;31m:\u001b[0m 1\n"
     ]
    },
    {
     "name": "stderr",
     "output_type": "stream",
     "text": [
      "/Users/jattenberg/anaconda2/lib/python2.7/site-packages/IPython/core/interactiveshell.py:2889: UserWarning: To exit: use 'exit', 'quit', or Ctrl-D.\n",
      "  warn(\"To exit: use 'exit', 'quit', or Ctrl-D.\", stacklevel=1)\n"
     ]
    }
   ],
   "source": [
    "html = fetch_with_retries(main_url, 0)\n",
    "soup = bs4.BeautifulSoup(html)\n",
    "\n",
    "for link in soup.find_all(\"a\"):\n",
    "    if link.has_key('href'):\n",
    "        for m in re.findall(pattern, link['href']):\n",
    "            url = \"%s%s.html\" % (lyrics_base, m)\n",
    "            logging.info(\"collecting %s\" % url)\n",
    "            outfile = os.path.join(output_dir, m)\n",
    "            out = open(outfile, \"w\")\n",
    "            u_html = fetch_with_retries(url, 0)\n",
    "            out.write(u_html)\n",
    "            out.flush()\n",
    "            out.close()"
   ]
  },
  {
   "cell_type": "code",
   "execution_count": null,
   "metadata": {
    "collapsed": true
   },
   "outputs": [],
   "source": []
  }
 ],
 "metadata": {
  "anaconda-cloud": {},
  "kernelspec": {
   "display_name": "Python [conda root]",
   "language": "python",
   "name": "conda-root-py"
  },
  "language_info": {
   "codemirror_mode": {
    "name": "ipython",
    "version": 2
   },
   "file_extension": ".py",
   "mimetype": "text/x-python",
   "name": "python",
   "nbconvert_exporter": "python",
   "pygments_lexer": "ipython2",
   "version": "2.7.12"
  }
 },
 "nbformat": 4,
 "nbformat_minor": 1
}
