{
 "cells": [
  {
   "cell_type": "code",
   "execution_count": 1,
   "metadata": {
    "collapsed": true
   },
   "outputs": [],
   "source": [
    "import re\n",
    "import sys\n",
    "import bs4\n",
    "import logging\n",
    "import os"
   ]
  },
  {
   "cell_type": "code",
   "execution_count": 2,
   "metadata": {
    "collapsed": true
   },
   "outputs": [],
   "source": [
    "input_dir = \"../lyrics/\"\n",
    "output_dir = \"../lyrics_clean/\"\n",
    "pattern = r'MF Doom Lyrics\\s+(.+?)\\s+'\n",
    "\n",
    "logging.basicConfig(format='%(asctime)s %(message)s', stream=sys.stdout, level=\"INFO\")"
   ]
  },
  {
   "cell_type": "code",
   "execution_count": 3,
   "metadata": {
    "collapsed": true
   },
   "outputs": [],
   "source": [
    "def filter_html(element):\n",
    "    return not element.parent.name in ['style', 'script', '[document]', 'head', 'title']\n",
    "\n",
    "def text_from_file(file):\n",
    "    html = open(file, \"r\").read()\n",
    "    soup = bs4.BeautifulSoup(html, \"lxml\")\n",
    "    text_stuff = soup.findAll(text=True)\n",
    "    parts =  \"\".join(filter(lambda t: filter_html(t), text_stuff)).replace(\"Usage of azlyrics.com content by any third-party lyrics provider is prohibited by our licensing agreement. Sorry about that.\", \"\").split(\"\\n\")\n",
    "    no_names = \"|\".join([x.strip() for x in parts if x and not (x.startswith(\"[\") or x.endswith(\"]\"))])\n",
    "    no_bottom = re.sub(r'MxM banner.*', \"\", no_names)\n",
    "    no_top =  re.sub(r'.*?MF Doom Lyrics', \"\", no_bottom)\n",
    "    return no_top.replace(\"|\", \"\\n\")"
   ]
  },
  {
   "cell_type": "code",
   "execution_count": 4,
   "metadata": {},
   "outputs": [],
   "source": [
    "for sub, dirs, files in os.walk(input_dir):\n",
    "    for file in files:\n",
    "        with open(os.path.join(output_dir, file), 'w') as out:\n",
    "            text = text_from_file(os.path.join(input_dir, file))\n",
    "            out.write(\"%s\\n\" % text.encode('utf-8'))\n",
    "            out.flush()"
   ]
  },
  {
   "cell_type": "code",
   "execution_count": null,
   "metadata": {
    "collapsed": true
   },
   "outputs": [],
   "source": []
  }
 ],
 "metadata": {
  "anaconda-cloud": {},
  "kernelspec": {
   "display_name": "Python [conda root]",
   "language": "python",
   "name": "conda-root-py"
  },
  "language_info": {
   "codemirror_mode": {
    "name": "ipython",
    "version": 2
   },
   "file_extension": ".py",
   "mimetype": "text/x-python",
   "name": "python",
   "nbconvert_exporter": "python",
   "pygments_lexer": "ipython2",
   "version": "2.7.13"
  }
 },
 "nbformat": 4,
 "nbformat_minor": 1
}
